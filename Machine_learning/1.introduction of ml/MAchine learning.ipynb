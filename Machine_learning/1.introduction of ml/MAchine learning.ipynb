{
 "cells": [
  {
   "cell_type": "markdown",
   "metadata": {},
   "source": [
    "# MAchine learning\n"
   ]
  },
  {
   "cell_type": "markdown",
   "metadata": {},
   "source": [
    "A computer program which can improve It's Performance P on a given task T by experice"
   ]
  },
  {
   "cell_type": "markdown",
   "metadata": {},
   "source": [
    "Task --> Predication,recommandation,pattern detection,...."
   ]
  },
  {
   "cell_type": "markdown",
   "metadata": {},
   "source": [
    "Ai = Reinforcement learning + computer vision+signal processing"
   ]
  },
  {
   "cell_type": "markdown",
   "metadata": {},
   "source": [
    "### Types of Machine Learning\n",
    "how you can train your machine with data\n",
    "<br>\n",
    "supervised ml\n",
    "<br>\n",
    "un-supervised ml\n",
    "<br>\n",
    "re-infoRCEMENT learning\n"
   ]
  },
  {
   "cell_type": "markdown",
   "metadata": {},
   "source": [
    "# on the basis scale\n",
    "Instance based learning/on the fly learning\n",
    "<br>\n",
    "batch learning"
   ]
  },
  {
   "cell_type": "markdown",
   "metadata": {},
   "source": [
    "### algorithm\n",
    "model based machine learning (parametric ml model)\n",
    "<br>\n",
    "instance based Ml (non-parametic machine learning model)"
   ]
  },
  {
   "cell_type": "markdown",
   "metadata": {},
   "source": [
    "R&D-->high level maths<br>\n",
    "Development/product --> Practical machine learning(Basic maths)<br>"
   ]
  },
  {
   "cell_type": "markdown",
   "metadata": {},
   "source": [
    "### 1. supervised machine learning"
   ]
  },
  {
   "cell_type": "markdown",
   "metadata": {},
   "source": [
    "dataset-->complete data(popula)<br><br>\n",
    "train dataset-->port dataset which we will use to train our alogorithum<br><br>\n",
    "test dataset-->port of dataset which is nener exposed to ml model during training and it is used to evoluatte model's performane"
   ]
  },
  {
   "cell_type": "markdown",
   "metadata": {},
   "source": [
    "  features/attributes-->input values<br>\n",
    "  target/label-->desired output"
   ]
  },
  {
   "cell_type": "markdown",
   "metadata": {},
   "source": [
    " # House Price prediction\n",
    " age,crine,area,location,population,education,furnised or not furnised, no of rooms , no bedrooms,floor,pollution,..\n",
    " \n",
    " "
   ]
  },
  {
   "cell_type": "markdown",
   "metadata": {},
   "source": [
    "# supervised ml\n",
    "Training dataset contains features/attributes as well as label  or target\n"
   ]
  },
  {
   "cell_type": "markdown",
   "metadata": {},
   "source": [
    "# 1. supervised\n",
    "# 2. unsupervised\n",
    "# 3. reinforcement\n"
   ]
  },
  {
   "cell_type": "markdown",
   "metadata": {},
   "source": [
    "# supervised ml\n",
    "1. regression-->when yout target variable is a cintinous value Eg: price,height,stock,temper....\n",
    "2. classification--> when yout target variable is a categorical value or represenc a group Eg:corona -->postive/negative,Test-->positive/fail,producat-->good,bad,excllenct,worst"
   ]
  },
  {
   "cell_type": "markdown",
   "metadata": {},
   "source": [
    "# semi-supervised ML\n"
   ]
  }
 ],
 "metadata": {
  "kernelspec": {
   "display_name": "Python 3",
   "language": "python",
   "name": "python3"
  },
  "language_info": {
   "codemirror_mode": {
    "name": "ipython",
    "version": 3
   },
   "file_extension": ".py",
   "mimetype": "text/x-python",
   "name": "python",
   "nbconvert_exporter": "python",
   "pygments_lexer": "ipython3",
   "version": "3.8.5"
  }
 },
 "nbformat": 4,
 "nbformat_minor": 4
}
